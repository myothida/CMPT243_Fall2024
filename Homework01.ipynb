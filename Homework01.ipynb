{
 "cells": [
  {
   "cell_type": "markdown",
   "metadata": {},
   "source": [
    "## Homework 01: Difference of Two Squares\n",
    "\n",
    "### Objective\n",
    "\n",
    "In this homework, you will write a program that finds all possible ways to express a given number as the difference of two perfect squares. \n",
    "\n",
    "Specifically, you need to write a program to find all pairs $(x, y)$ where $x$ and $y$ are integers between 1 and 1000 such that: $ \\text{number} = x^2 - y^2 $. \n",
    "\n",
    "Understanding how to write a number as a difference of two squares can lead to useful techniques for factoring large numbers."
   ]
  },
  {
   "cell_type": "markdown",
   "metadata": {},
   "source": [
    "## Instructions\n",
    "\n",
    "### Task\n",
    "\n",
    "1. **Implement the Program:**\n",
    "   - Write a Python program that asks the user to input a number.\n",
    "   - The program should then find and print all pairs \\((x, y)\\) where \\(x\\) and \\(y\\) are integers between 1 and 1000, and the difference between \\(x^2\\) and \\(y^2\\) equals the given number.\n",
    "\n",
    "2. **Program Requirements:**\n",
    "   - Your program should prompt the user for input.\n",
    "   - Ensure that the program handles edge cases (e.g., when no pairs \\((x, y)\\) satisfy the condition).\n",
    "   - The program should print the results in a clear and readable format.\n",
    "\n",
    "3. **Group Work:**\n",
    "   - You will work in pairs for this assignment. One partner, role played as interveiwee, should explain his/her own code to solve the problem, while the other partner, role-played as interviewer/developer, should follow the instructions and write the code. \n",
    "   - Discuss and reflect on the different approaches taken, and analyze how the results from your program compare to the results from your partner's code.\n",
    "\n",
    "4. **Reflection:**\n",
    "   - After both partners have completed their implementations, write a reflection in the notebook.\n",
    "   - Address the following questions:\n",
    "     - What differences did you observe between your code and your partner’s code?\n",
    "     - How did the different approaches affect the results or performance?\n",
    "     - What insights did you gain about the problem and the solution?"
   ]
  },
  {
   "cell_type": "markdown",
   "metadata": {},
   "source": [
    "### Deliverables\n",
    "\n",
    "- **Notebook File (`homework_01.ipynb`)**:\n",
    "  - Your Python code implementation.\n",
    "  - Output from running your code with sample inputs.\n",
    "  - Reflections on the pair work process and the comparison of different solutions.\n",
    "\n",
    "### Submission\n",
    "\n",
    "- Make sure to commit and push your completed Jupyter notebook to your GitHub repository by the submission deadline.\n",
    "- Ensure that all code cells are executed and that the notebook is well-documented with comments explaining your code."
   ]
  },
  {
   "cell_type": "markdown",
   "metadata": {},
   "source": []
  }
 ],
 "metadata": {
  "language_info": {
   "name": "python"
  }
 },
 "nbformat": 4,
 "nbformat_minor": 2
}
